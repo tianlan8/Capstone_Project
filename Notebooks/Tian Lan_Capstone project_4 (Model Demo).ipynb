{
 "cells": [
  {
   "cell_type": "markdown",
   "id": "363a7704",
   "metadata": {},
   "source": [
    "## Step 4: Model Demo\n",
    "\n",
    "#### Name: Tian Lan"
   ]
  },
  {
   "cell_type": "code",
   "execution_count": 1,
   "id": "fbeaaaac",
   "metadata": {},
   "outputs": [],
   "source": [
    "import pandas as pd\n",
    "import numpy as np\n",
    "import gradio as gr\n",
    "import joblib\n",
    "\n",
    "import warnings\n",
    "warnings.filterwarnings('ignore')"
   ]
  },
  {
   "cell_type": "code",
   "execution_count": 2,
   "id": "53d2382c",
   "metadata": {},
   "outputs": [
    {
     "data": {
      "text/html": [
       "<style>#sk-container-id-1 {color: black;background-color: white;}#sk-container-id-1 pre{padding: 0;}#sk-container-id-1 div.sk-toggleable {background-color: white;}#sk-container-id-1 label.sk-toggleable__label {cursor: pointer;display: block;width: 100%;margin-bottom: 0;padding: 0.3em;box-sizing: border-box;text-align: center;}#sk-container-id-1 label.sk-toggleable__label-arrow:before {content: \"▸\";float: left;margin-right: 0.25em;color: #696969;}#sk-container-id-1 label.sk-toggleable__label-arrow:hover:before {color: black;}#sk-container-id-1 div.sk-estimator:hover label.sk-toggleable__label-arrow:before {color: black;}#sk-container-id-1 div.sk-toggleable__content {max-height: 0;max-width: 0;overflow: hidden;text-align: left;background-color: #f0f8ff;}#sk-container-id-1 div.sk-toggleable__content pre {margin: 0.2em;color: black;border-radius: 0.25em;background-color: #f0f8ff;}#sk-container-id-1 input.sk-toggleable__control:checked~div.sk-toggleable__content {max-height: 200px;max-width: 100%;overflow: auto;}#sk-container-id-1 input.sk-toggleable__control:checked~label.sk-toggleable__label-arrow:before {content: \"▾\";}#sk-container-id-1 div.sk-estimator input.sk-toggleable__control:checked~label.sk-toggleable__label {background-color: #d4ebff;}#sk-container-id-1 div.sk-label input.sk-toggleable__control:checked~label.sk-toggleable__label {background-color: #d4ebff;}#sk-container-id-1 input.sk-hidden--visually {border: 0;clip: rect(1px 1px 1px 1px);clip: rect(1px, 1px, 1px, 1px);height: 1px;margin: -1px;overflow: hidden;padding: 0;position: absolute;width: 1px;}#sk-container-id-1 div.sk-estimator {font-family: monospace;background-color: #f0f8ff;border: 1px dotted black;border-radius: 0.25em;box-sizing: border-box;margin-bottom: 0.5em;}#sk-container-id-1 div.sk-estimator:hover {background-color: #d4ebff;}#sk-container-id-1 div.sk-parallel-item::after {content: \"\";width: 100%;border-bottom: 1px solid gray;flex-grow: 1;}#sk-container-id-1 div.sk-label:hover label.sk-toggleable__label {background-color: #d4ebff;}#sk-container-id-1 div.sk-serial::before {content: \"\";position: absolute;border-left: 1px solid gray;box-sizing: border-box;top: 0;bottom: 0;left: 50%;z-index: 0;}#sk-container-id-1 div.sk-serial {display: flex;flex-direction: column;align-items: center;background-color: white;padding-right: 0.2em;padding-left: 0.2em;position: relative;}#sk-container-id-1 div.sk-item {position: relative;z-index: 1;}#sk-container-id-1 div.sk-parallel {display: flex;align-items: stretch;justify-content: center;background-color: white;position: relative;}#sk-container-id-1 div.sk-item::before, #sk-container-id-1 div.sk-parallel-item::before {content: \"\";position: absolute;border-left: 1px solid gray;box-sizing: border-box;top: 0;bottom: 0;left: 50%;z-index: -1;}#sk-container-id-1 div.sk-parallel-item {display: flex;flex-direction: column;z-index: 1;position: relative;background-color: white;}#sk-container-id-1 div.sk-parallel-item:first-child::after {align-self: flex-end;width: 50%;}#sk-container-id-1 div.sk-parallel-item:last-child::after {align-self: flex-start;width: 50%;}#sk-container-id-1 div.sk-parallel-item:only-child::after {width: 0;}#sk-container-id-1 div.sk-dashed-wrapped {border: 1px dashed gray;margin: 0 0.4em 0.5em 0.4em;box-sizing: border-box;padding-bottom: 0.4em;background-color: white;}#sk-container-id-1 div.sk-label label {font-family: monospace;font-weight: bold;display: inline-block;line-height: 1.2em;}#sk-container-id-1 div.sk-label-container {text-align: center;}#sk-container-id-1 div.sk-container {/* jupyter's `normalize.less` sets `[hidden] { display: none; }` but bootstrap.min.css set `[hidden] { display: none !important; }` so we also need the `!important` here to be able to override the default hidden behavior on the sphinx rendered scikit-learn.org. See: https://github.com/scikit-learn/scikit-learn/issues/21755 */display: inline-block !important;position: relative;}#sk-container-id-1 div.sk-text-repr-fallback {display: none;}</style><div id=\"sk-container-id-1\" class=\"sk-top-container\"><div class=\"sk-text-repr-fallback\"><pre>GradientBoostingRegressor(learning_rate=0.03, max_depth=10, min_samples_leaf=5,\n",
       "                          min_samples_split=3, n_estimators=150, subsample=0.7)</pre><b>In a Jupyter environment, please rerun this cell to show the HTML representation or trust the notebook. <br />On GitHub, the HTML representation is unable to render, please try loading this page with nbviewer.org.</b></div><div class=\"sk-container\" hidden><div class=\"sk-item\"><div class=\"sk-estimator sk-toggleable\"><input class=\"sk-toggleable__control sk-hidden--visually\" id=\"sk-estimator-id-1\" type=\"checkbox\" checked><label for=\"sk-estimator-id-1\" class=\"sk-toggleable__label sk-toggleable__label-arrow\">GradientBoostingRegressor</label><div class=\"sk-toggleable__content\"><pre>GradientBoostingRegressor(learning_rate=0.03, max_depth=10, min_samples_leaf=5,\n",
       "                          min_samples_split=3, n_estimators=150, subsample=0.7)</pre></div></div></div></div></div>"
      ],
      "text/plain": [
       "GradientBoostingRegressor(learning_rate=0.03, max_depth=10, min_samples_leaf=5,\n",
       "                          min_samples_split=3, n_estimators=150, subsample=0.7)"
      ]
     },
     "execution_count": 2,
     "metadata": {},
     "output_type": "execute_result"
    }
   ],
   "source": [
    "best_model = joblib.load('best_model.pkl')\n",
    "\n",
    "best_model"
   ]
  },
  {
   "cell_type": "code",
   "execution_count": 3,
   "id": "c6bc0c59",
   "metadata": {},
   "outputs": [],
   "source": [
    "weekdays = [\"Monday\", \"Tuesday\", \"Wednesday\", \"Thursday\", \"Friday\", \"Saturday\", \"Sunday\"]"
   ]
  },
  {
   "cell_type": "code",
   "execution_count": 4,
   "id": "e911c51d",
   "metadata": {},
   "outputs": [],
   "source": [
    "def get_weekday_number(weekday_label): \n",
    "    return weekdays.index(weekday_label) + 1"
   ]
  },
  {
   "cell_type": "code",
   "execution_count": 5,
   "id": "74d02c9c",
   "metadata": {},
   "outputs": [],
   "source": [
    "def predict_engagement_rate(followers, total_videos, num_hashtags, year, month, day, weekday, morning, afternoon, evening, midnight):\n",
    "    \n",
    "    weekday_number = get_weekday_number(weekday)\n",
    "    \n",
    "    data = pd.DataFrame({\n",
    "        'Followers': [followers],\n",
    "        'Total Videos': [total_videos],\n",
    "        'Number of Hashtags': [num_hashtags],\n",
    "        'Upload Year': [year],\n",
    "        'Upload Month': [month],\n",
    "        'Upload Day': [day],\n",
    "        'Upload Weekday': [weekday_number],\n",
    "        'Upload at Morning': [morning],\n",
    "        'Upload at Afternoon': [afternoon],\n",
    "        'Upload at Evening': [evening],\n",
    "        'Upload at Midnight': [midnight]\n",
    "    })\n",
    "\n",
    "    engagement_rate = best_model.predict(data)\n",
    "\n",
    "    return f'{engagement_rate[0]*100:.2f} %'"
   ]
  },
  {
   "cell_type": "code",
   "execution_count": 6,
   "id": "dcce9ef5",
   "metadata": {},
   "outputs": [
    {
     "name": "stdout",
     "output_type": "stream",
     "text": [
      "Running on local URL:  http://127.0.0.1:7860\n",
      "\n",
      "Thanks for being a Gradio user! If you have questions or feedback, please join our Discord server and chat with us: https://discord.gg/feTf9x3ZSB\n",
      "Running on public URL: https://f320e5052cd616574f.gradio.live\n",
      "\n",
      "This share link expires in 72 hours. For free permanent hosting and GPU upgrades, run `gradio deploy` from Terminal to deploy to Spaces (https://huggingface.co/spaces)\n"
     ]
    },
    {
     "data": {
      "text/html": [
       "<div><iframe src=\"https://f320e5052cd616574f.gradio.live\" width=\"100%\" height=\"500\" allow=\"autoplay; camera; microphone; clipboard-read; clipboard-write;\" frameborder=\"0\" allowfullscreen></iframe></div>"
      ],
      "text/plain": [
       "<IPython.core.display.HTML object>"
      ]
     },
     "metadata": {},
     "output_type": "display_data"
    },
    {
     "data": {
      "text/plain": []
     },
     "execution_count": 6,
     "metadata": {},
     "output_type": "execute_result"
    }
   ],
   "source": [
    "demo = gr.Interface(\n",
    "    theme=gr.themes.Soft(),\n",
    "    fn=predict_engagement_rate,\n",
    "    inputs=[\n",
    "        gr.inputs.Number(label=\"Followers\"),\n",
    "        gr.inputs.Number(label=\"Total videos\"),\n",
    "        gr.inputs.Number(label=\"Number of Hashtags\"),\n",
    "        gr.inputs.Slider(minimum=2016, maximum=2023, step=1, label=\"Upload Year\"),\n",
    "        gr.inputs.Slider(minimum=1, maximum=12, step=1, label=\"Upload Month\"),\n",
    "        gr.inputs.Slider(minimum=1, maximum=31, step=1, label=\"Upload Day\"),\n",
    "        gr.inputs.Dropdown(weekdays, label=\"Upload Weekday\"),\n",
    "        gr.inputs.Checkbox(label=\"Morning (06:00 - 12:00)\"),\n",
    "        gr.inputs.Checkbox(label=\"Afternoon (12:00 - 18:00)\"),\n",
    "        gr.inputs.Checkbox(label=\"Evening (18:00 - 00:00)\"),\n",
    "        gr.inputs.Checkbox(label=\"Midnight (00:00 - 06:00)\"),\n",
    "    ],\n",
    "    outputs=gr.outputs.Textbox(label='Engagement Rate'),\n",
    "    live=True,\n",
    "    title=\"Tiktok User Engagement Rate Predictor\",\n",
    ")\n",
    "\n",
    "demo.launch(share=True)"
   ]
  },
  {
   "cell_type": "code",
   "execution_count": null,
   "id": "9ebcfd60",
   "metadata": {},
   "outputs": [],
   "source": []
  }
 ],
 "metadata": {
  "kernelspec": {
   "display_name": "Python 3 (ipykernel)",
   "language": "python",
   "name": "python3"
  },
  "language_info": {
   "codemirror_mode": {
    "name": "ipython",
    "version": 3
   },
   "file_extension": ".py",
   "mimetype": "text/x-python",
   "name": "python",
   "nbconvert_exporter": "python",
   "pygments_lexer": "ipython3",
   "version": "3.10.9"
  }
 },
 "nbformat": 4,
 "nbformat_minor": 5
}
