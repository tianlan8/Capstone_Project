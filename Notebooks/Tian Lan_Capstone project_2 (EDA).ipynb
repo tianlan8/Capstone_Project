{
 "cells": [
  {
   "cell_type": "markdown",
   "id": "bf9dbf00",
   "metadata": {},
   "source": [
    "## Step 2: Exploratory Data Analysis\n",
    "\n",
    "#### Name: Tian Lan"
   ]
  },
  {
   "cell_type": "code",
   "execution_count": 1,
   "id": "f6dbfaa6",
   "metadata": {},
   "outputs": [],
   "source": [
    "import pandas as pd\n",
    "import numpy as np\n",
    "import seaborn as sns\n",
    "import matplotlib.pyplot as plt\n",
    "import plotly.express as px\n",
    "\n",
    "from sklearn.preprocessing import StandardScaler\n",
    "from sklearn.linear_model import LinearRegression\n",
    "from sklearn.tree import DecisionTreeRegressor"
   ]
  },
  {
   "cell_type": "code",
   "execution_count": 4,
   "id": "3c8296de",
   "metadata": {},
   "outputs": [
    {
     "data": {
      "text/html": [
       "<div>\n",
       "<style scoped>\n",
       "    .dataframe tbody tr th:only-of-type {\n",
       "        vertical-align: middle;\n",
       "    }\n",
       "\n",
       "    .dataframe tbody tr th {\n",
       "        vertical-align: top;\n",
       "    }\n",
       "\n",
       "    .dataframe thead th {\n",
       "        text-align: right;\n",
       "    }\n",
       "</style>\n",
       "<table border=\"1\" class=\"dataframe\">\n",
       "  <thead>\n",
       "    <tr style=\"text-align: right;\">\n",
       "      <th></th>\n",
       "      <th>User_ID</th>\n",
       "      <th>Hashtags</th>\n",
       "      <th>Song Title</th>\n",
       "      <th>Video Length</th>\n",
       "      <th>Likes</th>\n",
       "      <th>Shares</th>\n",
       "      <th>Comments</th>\n",
       "      <th>Views</th>\n",
       "      <th>Followers</th>\n",
       "      <th>Total Likes</th>\n",
       "      <th>Total Videos</th>\n",
       "      <th>Upload Year</th>\n",
       "      <th>Upload Month</th>\n",
       "      <th>Upload Day</th>\n",
       "      <th>Upload Weekday</th>\n",
       "      <th>Upload Period</th>\n",
       "      <th>Total Engagement</th>\n",
       "      <th>Engagement Rate</th>\n",
       "    </tr>\n",
       "  </thead>\n",
       "  <tbody>\n",
       "    <tr>\n",
       "      <th>25379</th>\n",
       "      <td>6890647806692871426</td>\n",
       "      <td>['parati', 'fyp']</td>\n",
       "      <td>Original Sound</td>\n",
       "      <td>9</td>\n",
       "      <td>8266</td>\n",
       "      <td>34</td>\n",
       "      <td>155</td>\n",
       "      <td>78600</td>\n",
       "      <td>9900000</td>\n",
       "      <td>118800000</td>\n",
       "      <td>703</td>\n",
       "      <td>2020</td>\n",
       "      <td>11</td>\n",
       "      <td>2</td>\n",
       "      <td>0</td>\n",
       "      <td>Evening</td>\n",
       "      <td>8455</td>\n",
       "      <td>0.000854</td>\n",
       "    </tr>\n",
       "    <tr>\n",
       "      <th>25395</th>\n",
       "      <td>6890621803505519873</td>\n",
       "      <td>['dueto']</td>\n",
       "      <td>The cigarette duet by princess Chelsea</td>\n",
       "      <td>9</td>\n",
       "      <td>95300</td>\n",
       "      <td>534</td>\n",
       "      <td>2028</td>\n",
       "      <td>568800</td>\n",
       "      <td>5500000</td>\n",
       "      <td>150800000</td>\n",
       "      <td>1193</td>\n",
       "      <td>2020</td>\n",
       "      <td>11</td>\n",
       "      <td>2</td>\n",
       "      <td>0</td>\n",
       "      <td>Evening</td>\n",
       "      <td>97862</td>\n",
       "      <td>0.017793</td>\n",
       "    </tr>\n",
       "    <tr>\n",
       "      <th>15316</th>\n",
       "      <td>6884361854714383621</td>\n",
       "      <td>[]</td>\n",
       "      <td>Knock Knock</td>\n",
       "      <td>11</td>\n",
       "      <td>44000</td>\n",
       "      <td>94</td>\n",
       "      <td>204</td>\n",
       "      <td>297100</td>\n",
       "      <td>5300000</td>\n",
       "      <td>108000000</td>\n",
       "      <td>455</td>\n",
       "      <td>2020</td>\n",
       "      <td>10</td>\n",
       "      <td>16</td>\n",
       "      <td>4</td>\n",
       "      <td>Evening</td>\n",
       "      <td>44298</td>\n",
       "      <td>0.008358</td>\n",
       "    </tr>\n",
       "    <tr>\n",
       "      <th>15177</th>\n",
       "      <td>6868372637559590150</td>\n",
       "      <td>['popsmoke', 'AimForTheMoon']</td>\n",
       "      <td>Aim For The Moon</td>\n",
       "      <td>13</td>\n",
       "      <td>298900</td>\n",
       "      <td>5313</td>\n",
       "      <td>4291</td>\n",
       "      <td>3000000</td>\n",
       "      <td>2400000</td>\n",
       "      <td>13500000</td>\n",
       "      <td>45</td>\n",
       "      <td>2020</td>\n",
       "      <td>9</td>\n",
       "      <td>3</td>\n",
       "      <td>3</td>\n",
       "      <td>Evening</td>\n",
       "      <td>308504</td>\n",
       "      <td>0.128543</td>\n",
       "    </tr>\n",
       "    <tr>\n",
       "      <th>34126</th>\n",
       "      <td>6887622271150656774</td>\n",
       "      <td>[]</td>\n",
       "      <td>original sound</td>\n",
       "      <td>40</td>\n",
       "      <td>24800</td>\n",
       "      <td>9</td>\n",
       "      <td>63</td>\n",
       "      <td>109300</td>\n",
       "      <td>2100000</td>\n",
       "      <td>31800000</td>\n",
       "      <td>602</td>\n",
       "      <td>2020</td>\n",
       "      <td>10</td>\n",
       "      <td>25</td>\n",
       "      <td>6</td>\n",
       "      <td>Evening</td>\n",
       "      <td>24872</td>\n",
       "      <td>0.011844</td>\n",
       "    </tr>\n",
       "  </tbody>\n",
       "</table>\n",
       "</div>"
      ],
      "text/plain": [
       "                   User_ID                       Hashtags  \\\n",
       "25379  6890647806692871426              ['parati', 'fyp']   \n",
       "25395  6890621803505519873                      ['dueto']   \n",
       "15316  6884361854714383621                             []   \n",
       "15177  6868372637559590150  ['popsmoke', 'AimForTheMoon']   \n",
       "34126  6887622271150656774                             []   \n",
       "\n",
       "                                   Song Title  Video Length   Likes  Shares  \\\n",
       "25379                          Original Sound             9    8266      34   \n",
       "25395  The cigarette duet by princess Chelsea             9   95300     534   \n",
       "15316                             Knock Knock            11   44000      94   \n",
       "15177                        Aim For The Moon            13  298900    5313   \n",
       "34126                          original sound            40   24800       9   \n",
       "\n",
       "       Comments    Views  Followers  Total Likes  Total Videos  Upload Year  \\\n",
       "25379       155    78600    9900000    118800000           703         2020   \n",
       "25395      2028   568800    5500000    150800000          1193         2020   \n",
       "15316       204   297100    5300000    108000000           455         2020   \n",
       "15177      4291  3000000    2400000     13500000            45         2020   \n",
       "34126        63   109300    2100000     31800000           602         2020   \n",
       "\n",
       "       Upload Month  Upload Day  Upload Weekday Upload Period  \\\n",
       "25379            11           2               0       Evening   \n",
       "25395            11           2               0       Evening   \n",
       "15316            10          16               4       Evening   \n",
       "15177             9           3               3       Evening   \n",
       "34126            10          25               6       Evening   \n",
       "\n",
       "       Total Engagement  Engagement Rate  \n",
       "25379              8455         0.000854  \n",
       "25395             97862         0.017793  \n",
       "15316             44298         0.008358  \n",
       "15177            308504         0.128543  \n",
       "34126             24872         0.011844  "
      ]
     },
     "execution_count": 4,
     "metadata": {},
     "output_type": "execute_result"
    }
   ],
   "source": [
    "clean_df = pd.read_csv('clean_data.csv')\n",
    "\n",
    "clean_df.sample(5)"
   ]
  },
  {
   "cell_type": "code",
   "execution_count": 5,
   "id": "7389b2e0",
   "metadata": {},
   "outputs": [
    {
     "name": "stdout",
     "output_type": "stream",
     "text": [
      "<class 'pandas.core.frame.DataFrame'>\n",
      "RangeIndex: 52844 entries, 0 to 52843\n",
      "Data columns (total 18 columns):\n",
      " #   Column            Non-Null Count  Dtype  \n",
      "---  ------            --------------  -----  \n",
      " 0   User_ID           52844 non-null  int64  \n",
      " 1   Hashtags          52844 non-null  object \n",
      " 2   Song Title        52844 non-null  object \n",
      " 3   Video Length      52844 non-null  int64  \n",
      " 4   Likes             52844 non-null  int64  \n",
      " 5   Shares            52844 non-null  int64  \n",
      " 6   Comments          52844 non-null  int64  \n",
      " 7   Views             52844 non-null  int64  \n",
      " 8   Followers         52844 non-null  int64  \n",
      " 9   Total Likes       52844 non-null  int64  \n",
      " 10  Total Videos      52844 non-null  int64  \n",
      " 11  Upload Year       52844 non-null  int64  \n",
      " 12  Upload Month      52844 non-null  int64  \n",
      " 13  Upload Day        52844 non-null  int64  \n",
      " 14  Upload Weekday    52844 non-null  int64  \n",
      " 15  Upload Period     52844 non-null  object \n",
      " 16  Total Engagement  52844 non-null  int64  \n",
      " 17  Engagement Rate   52844 non-null  float64\n",
      "dtypes: float64(1), int64(14), object(3)\n",
      "memory usage: 7.3+ MB\n"
     ]
    }
   ],
   "source": [
    "clean_df.info()"
   ]
  },
  {
   "cell_type": "markdown",
   "id": "3a49f051",
   "metadata": {},
   "source": [
    "#### Distribution of the Data"
   ]
  },
  {
   "cell_type": "markdown",
   "id": "776c4190",
   "metadata": {},
   "source": [
    "- Distribution of Engagement Features (Views, Likes, Comments, Shares)"
   ]
  },
  {
   "cell_type": "code",
   "execution_count": null,
   "id": "3cc8651a",
   "metadata": {},
   "outputs": [],
   "source": [
    "engagement_columns = ['Likes', 'Shares', 'Comments', 'Views']\n",
    "\n",
    "plt.figure(figsize=(10, 6))\n",
    "\n",
    "for i, col in enumerate(engagement_columns):\n",
    "    plt.subplot(2, 2, i+1)\n",
    "    sns.histplot(clean_df[col], bins=80, kde=True)\n",
    "    plt.xlabel(col)\n",
    "    plt.ylabel('Count')\n",
    "    plt.title(f'Distribution of {col}')\n",
    "\n",
    "plt.tight_layout()\n",
    "plt.show()"
   ]
  },
  {
   "cell_type": "markdown",
   "id": "bacbe4d4",
   "metadata": {},
   "source": [
    "from above we can see that the features related to enagement is heavilt skewed and concentrated within the lower range. the data is not  "
   ]
  },
  {
   "cell_type": "markdown",
   "id": "ee0c1a1f",
   "metadata": {},
   "source": [
    "- Distribution of Upload Time and the Period - provide insights into temporal patterns and trends"
   ]
  },
  {
   "cell_type": "code",
   "execution_count": null,
   "id": "ba9f422d",
   "metadata": {},
   "outputs": [],
   "source": []
  },
  {
   "cell_type": "markdown",
   "id": "1182de55",
   "metadata": {},
   "source": [
    "- Distribution of Followers and Total Likes - gain a better understanding of the range and diversity of user profiles, including both influencers and regular users, within the dataset"
   ]
  },
  {
   "cell_type": "code",
   "execution_count": null,
   "id": "5361d06a",
   "metadata": {},
   "outputs": [],
   "source": []
  },
  {
   "cell_type": "code",
   "execution_count": null,
   "id": "122595e2",
   "metadata": {},
   "outputs": [],
   "source": []
  },
  {
   "cell_type": "markdown",
   "id": "e3b96828",
   "metadata": {},
   "source": [
    "#### Grouping data with duplicated meaning"
   ]
  },
  {
   "cell_type": "markdown",
   "id": "7ed8c9a0",
   "metadata": {},
   "source": [
    "After examination of the dataset, it has been discovered that the \"Song Title\" column contains values indicating the absence of background music in the videos. These values are expressed in multiple languages, suggesting that they all signify the usage of the original sound in the videos. To ensure consistency and facilitate analysis, I will standardize these values by replacing all language variants with the term \"original sound.\" By treating these entries as a unified group, further analysis can be conducted to explore the characteristics and patterns associated with videos that utilize the original sound."
   ]
  },
  {
   "cell_type": "code",
   "execution_count": null,
   "id": "524c8c53",
   "metadata": {},
   "outputs": [],
   "source": [
    "clean_df['Song Title'].value_counts()"
   ]
  },
  {
   "cell_type": "code",
   "execution_count": null,
   "id": "3773a396",
   "metadata": {},
   "outputs": [],
   "source": [
    "song_title_ori = clean_df[clean_df['Song Title'].str.contains('ori', case=False)]['Song Title'].value_counts()\n",
    "\n",
    "song_title_ori"
   ]
  },
  {
   "cell_type": "code",
   "execution_count": null,
   "id": "cbf95bab",
   "metadata": {},
   "outputs": [],
   "source": [
    "# only display the song title contain 'ori' that occur more than 10 times\n",
    "\n",
    "song_title_ori[song_title_ori > 10].reset_index()"
   ]
  },
  {
   "cell_type": "code",
   "execution_count": null,
   "id": "58e64d26",
   "metadata": {},
   "outputs": [],
   "source": [
    "# Original Sound in Multiple Languages\n",
    "# Song Titles Starting with \"Original Sound - Username\" representing \n",
    "# the song is originally created by the user indicated in the username\n",
    "\n",
    "orig_sounds = ['original sound', 'sonido original', 'som original', \n",
    "               'Originalton', 'Original Sound', 'orijinal ses', \n",
    "               'son original', 'оригинальный звук', 'suono originale', \n",
    "               'origineel geluid']"
   ]
  },
  {
   "cell_type": "code",
   "execution_count": null,
   "id": "e17cbc3f",
   "metadata": {},
   "outputs": [],
   "source": [
    "clean_df['Song Title'] = clean_df['Song Title'].replace(orig_sounds, 'original sound')"
   ]
  },
  {
   "cell_type": "code",
   "execution_count": null,
   "id": "ba70042b",
   "metadata": {},
   "outputs": [],
   "source": [
    "clean_df['Song Title'].value_counts()"
   ]
  },
  {
   "cell_type": "markdown",
   "id": "dbfa72b4",
   "metadata": {},
   "source": [
    "Based on the observation, it is evident that the utilization of the original sound in video recordings constitutes more than half of the available video data. This finding suggests that the non-background music (non-BGM) type of TikTok videos holds significance within the dataset. It is important to note that this category may encompass various scenarios, including videos where users choose to use another device to play background music or videos where the usage of background audio is not explicitly indicated or marked."
   ]
  },
  {
   "cell_type": "markdown",
   "id": "6b57fcc2",
   "metadata": {},
   "source": [
    "#### Exploring Song Titles"
   ]
  },
  {
   "cell_type": "code",
   "execution_count": null,
   "id": "aa686e07",
   "metadata": {},
   "outputs": [],
   "source": [
    "- Engagement vs. Song Title"
   ]
  },
  {
   "cell_type": "code",
   "execution_count": null,
   "id": "ff6df3cf",
   "metadata": {},
   "outputs": [],
   "source": [
    "clean_df.info()"
   ]
  },
  {
   "cell_type": "code",
   "execution_count": null,
   "id": "551a8e77",
   "metadata": {},
   "outputs": [],
   "source": [
    "engagement_features = ['Engagement Rate', 'Total Engagement', 'Likes', 'Shares', 'Comments', 'Views']\n",
    "colors = ['blue', 'green', 'orange', 'purple', 'yellow', 'black']\n",
    "\n",
    "fig, axes = plt.subplots(nrows=3, ncols=2, figsize=(10,8))\n",
    "fig.subplots_adjust(hspace=0.4)\n",
    "\n",
    "for i, feature in enumerate(engagement_features):\n",
    "    \n",
    "    top_songs = clean_df.nlargest(5, feature)[['Song Title', feature]]\n",
    "    top_songs = top_songs.sort_values(feature, ascending=True)\n",
    "    \n",
    "    row = i // 2\n",
    "    col = i % 2\n",
    "    \n",
    "    axes[row, col].barh(top_songs['Song Title'], top_songs[feature], color=colors[i])\n",
    "    axes[row, col].set_xlabel(feature)\n",
    "    #axes[row, col].set_ylabel('Song Title')\n",
    "    axes[row, col].set_title(f'Top 5 Song Titles by {feature}')\n",
    "\n",
    "plt.tight_layout()\n",
    "plt.show()"
   ]
  },
  {
   "cell_type": "markdown",
   "id": "56f03c36",
   "metadata": {},
   "source": [
    "Based on the observations made, it is evident that the term 'original sound' frequently appears in the bar plot, predominantly due to its association with the group of videos that do not include background music. To further analyze the relationship between songs and engagement, it is essential to remove the 'original sound' value from the dataset and focus on the remaining song titles."
   ]
  },
  {
   "cell_type": "code",
   "execution_count": null,
   "id": "7066aee7",
   "metadata": {},
   "outputs": [],
   "source": [
    "song_df = clean_df[clean_df['Song Title'] != 'original sound']\n",
    "\n",
    "song_df.info()"
   ]
  },
  {
   "cell_type": "code",
   "execution_count": null,
   "id": "3ea6d719",
   "metadata": {},
   "outputs": [],
   "source": [
    "# re-do the visulization\n",
    "\n",
    "engagement_features = ['Engagement Rate', 'Total Engagement', 'Likes', 'Shares', 'Comments', 'Views']\n",
    "colors = ['blue', 'green', 'orange', 'purple', 'yellow', 'black']\n",
    "\n",
    "fig, axes = plt.subplots(nrows=3, ncols=2, figsize=(10,8))\n",
    "fig.subplots_adjust(hspace=0.4)\n",
    "\n",
    "for i, feature in enumerate(engagement_features):\n",
    "    \n",
    "    top_songs = song_df.nlargest(5, feature)[['Song Title', feature]]\n",
    "    top_songs = top_songs.sort_values(feature, ascending=True)\n",
    "    \n",
    "    row = i // 2\n",
    "    col = i % 2\n",
    "    \n",
    "    axes[row, col].barh(top_songs['Song Title'], top_songs[feature], color=colors[i])\n",
    "    axes[row, col].set_xlabel(feature)\n",
    "    #axes[row, col].set_ylabel('Song Title')\n",
    "    axes[row, col].set_title(f'Top 5 Song Titles by {feature}')\n",
    "\n",
    "plt.tight_layout()\n",
    "plt.show()"
   ]
  },
  {
   "cell_type": "markdown",
   "id": "9276ccf8",
   "metadata": {},
   "source": [
    "Based on the insights derived from the above bar chart, it is interesting to observe that certain songs appear multiple times in the dataset. Notably, some songs exhibit a strong presence in the \"Total Engagement\" ranking, indicating their popularity based on cumulative engagement metrics such as likes, shares, comments, and views. However, these same songs may not feature prominently in the \"Engagement Rate\" ranking, suggesting that the number of followers has a significant influence on the overall engagement rate.\n",
    "\n",
    "Furthermore, it is important to note that not all the songs identified in the analysis are specific to the timeframe of data collection, which spans 2020 and 2021. Some songs may be classified as classic music or popular during certain holiday seasons. This indicates that the TikTok community's preferences extend beyond the contemporary hit songs and encompasses a broader range of musical genres and time periods.\n",
    "\n",
    "The relationship between a song's popularity on TikTok and its status as a hit song outside the platform is complex and challenging to ascertain definitively. It is possible that songs gain popularity on TikTok and subsequently become hit songs, or vice versa, where already popular songs find their way onto the TikTok platform and further enhance their reach and popularity. The interplay between TikTok trends and mainstream music trends contributes to the dynamic nature of song popularity on the platform."
   ]
  },
  {
   "cell_type": "code",
   "execution_count": null,
   "id": "7a0c9dbb",
   "metadata": {},
   "outputs": [],
   "source": []
  },
  {
   "cell_type": "markdown",
   "id": "36e623e6",
   "metadata": {},
   "source": [
    "#### Engagement Column Correlation"
   ]
  },
  {
   "cell_type": "code",
   "execution_count": null,
   "id": "77fc18bf",
   "metadata": {},
   "outputs": [],
   "source": [
    "clean_df.info()"
   ]
  },
  {
   "cell_type": "code",
   "execution_count": null,
   "id": "0fd3f546",
   "metadata": {},
   "outputs": [],
   "source": [
    "numeric_df = clean_df.copy()\n",
    "\n",
    "numeric_df = numeric_df.drop(['column1', 'column2'], axis=1)"
   ]
  },
  {
   "cell_type": "code",
   "execution_count": null,
   "id": "9902a20a",
   "metadata": {},
   "outputs": [],
   "source": [
    "X = clean_df.drop('Engagement Rate', axis=1)\n",
    "y = clean_df['Engagement Rate'].copy()"
   ]
  },
  {
   "cell_type": "code",
   "execution_count": null,
   "id": "1ce3aa39",
   "metadata": {},
   "outputs": [],
   "source": [
    "X.corr()"
   ]
  },
  {
   "cell_type": "code",
   "execution_count": null,
   "id": "01d0b58c",
   "metadata": {},
   "outputs": [],
   "source": []
  },
  {
   "cell_type": "code",
   "execution_count": null,
   "id": "ce35f060",
   "metadata": {},
   "outputs": [],
   "source": []
  },
  {
   "cell_type": "code",
   "execution_count": null,
   "id": "cbd1bac9",
   "metadata": {},
   "outputs": [],
   "source": [
    "# EDA\n",
    "\n",
    "# Check peoid distribution\n",
    "\n",
    "# check the distribution of period\n",
    "\n",
    "clean_df['timestamp_period'].value_counts()\n",
    "\n",
    "category_order = ['Morning', 'Afternoon', 'Evening', 'Midnight']\n",
    "\n",
    "sns.countplot(data=clean_df, x='timestamp_period', order=category_order)\n",
    "\n",
    "plt.xlabel('Timestamp Period')\n",
    "plt.ylabel('Count')\n",
    "plt.title('Distribution of Timestamp Period')\n",
    "\n",
    "plt.show()"
   ]
  },
  {
   "cell_type": "code",
   "execution_count": null,
   "id": "2fcefa10",
   "metadata": {},
   "outputs": [],
   "source": []
  }
 ],
 "metadata": {
  "kernelspec": {
   "display_name": "Python 3 (ipykernel)",
   "language": "python",
   "name": "python3"
  },
  "language_info": {
   "codemirror_mode": {
    "name": "ipython",
    "version": 3
   },
   "file_extension": ".py",
   "mimetype": "text/x-python",
   "name": "python",
   "nbconvert_exporter": "python",
   "pygments_lexer": "ipython3",
   "version": "3.10.9"
  }
 },
 "nbformat": 4,
 "nbformat_minor": 5
}
