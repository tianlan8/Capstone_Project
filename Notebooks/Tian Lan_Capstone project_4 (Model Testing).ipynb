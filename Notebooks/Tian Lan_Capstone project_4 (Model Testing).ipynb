{
 "cells": [
  {
   "cell_type": "markdown",
   "id": "363a7704",
   "metadata": {},
   "source": [
    "## Step 4: Model Testing & Demo\n",
    "\n",
    "#### Name: Tian Lan"
   ]
  },
  {
   "cell_type": "code",
   "execution_count": 1,
   "id": "4b8e6d4d",
   "metadata": {},
   "outputs": [
    {
     "name": "stdout",
     "output_type": "stream",
     "text": [
      "Requirement already satisfied: typing-extensions in /Library/anaconda3/lib/python3.10/site-packages (4.7.1)\n",
      "Note: you may need to restart the kernel to use updated packages.\n"
     ]
    }
   ],
   "source": [
    "pip install --upgrade typing-extensions"
   ]
  },
  {
   "cell_type": "code",
   "execution_count": 2,
   "id": "c0bfd015",
   "metadata": {},
   "outputs": [
    {
     "name": "stdout",
     "output_type": "stream",
     "text": [
      "Requirement already satisfied: gradio in /Library/anaconda3/lib/python3.10/site-packages (3.39.0)\n",
      "Requirement already satisfied: semantic-version~=2.0 in /Library/anaconda3/lib/python3.10/site-packages (from gradio) (2.10.0)\n",
      "Requirement already satisfied: mdit-py-plugins<=0.3.3 in /Library/anaconda3/lib/python3.10/site-packages (from gradio) (0.3.3)\n",
      "Requirement already satisfied: markupsafe~=2.0 in /Library/anaconda3/lib/python3.10/site-packages (from gradio) (2.1.1)\n",
      "Requirement already satisfied: ffmpy in /Library/anaconda3/lib/python3.10/site-packages (from gradio) (0.3.1)\n",
      "Requirement already satisfied: pydub in /Library/anaconda3/lib/python3.10/site-packages (from gradio) (0.25.1)\n",
      "Requirement already satisfied: aiohttp~=3.0 in /Library/anaconda3/lib/python3.10/site-packages (from gradio) (3.8.5)\n",
      "Requirement already satisfied: fastapi in /Library/anaconda3/lib/python3.10/site-packages (from gradio) (0.100.1)\n",
      "Requirement already satisfied: aiofiles<24.0,>=22.0 in /Library/anaconda3/lib/python3.10/site-packages (from gradio) (23.1.0)\n",
      "Requirement already satisfied: pillow<11.0,>=8.0 in /Library/anaconda3/lib/python3.10/site-packages (from gradio) (9.4.0)\n",
      "Requirement already satisfied: matplotlib~=3.0 in /Library/anaconda3/lib/python3.10/site-packages (from gradio) (3.7.1)\n",
      "Requirement already satisfied: python-multipart in /Library/anaconda3/lib/python3.10/site-packages (from gradio) (0.0.6)\n",
      "Requirement already satisfied: typing-extensions~=4.0 in /Library/anaconda3/lib/python3.10/site-packages (from gradio) (4.7.1)\n",
      "Requirement already satisfied: markdown-it-py[linkify]>=2.0.0 in /Library/anaconda3/lib/python3.10/site-packages (from gradio) (2.2.0)\n",
      "Requirement already satisfied: uvicorn>=0.14.0 in /Library/anaconda3/lib/python3.10/site-packages (from gradio) (0.23.1)\n",
      "Requirement already satisfied: websockets<12.0,>=10.0 in /Library/anaconda3/lib/python3.10/site-packages (from gradio) (11.0.3)\n",
      "Requirement already satisfied: gradio-client>=0.3.0 in /Library/anaconda3/lib/python3.10/site-packages (from gradio) (0.3.0)\n",
      "Requirement already satisfied: packaging in /Library/anaconda3/lib/python3.10/site-packages (from gradio) (23.0)\n",
      "Requirement already satisfied: altair<6.0,>=4.2.0 in /Library/anaconda3/lib/python3.10/site-packages (from gradio) (5.0.1)\n",
      "Requirement already satisfied: orjson~=3.0 in /Library/anaconda3/lib/python3.10/site-packages (from gradio) (3.9.2)\n",
      "Requirement already satisfied: requests~=2.0 in /Library/anaconda3/lib/python3.10/site-packages (from gradio) (2.29.0)\n",
      "Requirement already satisfied: numpy~=1.0 in /Library/anaconda3/lib/python3.10/site-packages (from gradio) (1.24.3)\n",
      "Requirement already satisfied: pyyaml<7.0,>=5.0 in /Library/anaconda3/lib/python3.10/site-packages (from gradio) (6.0)\n",
      "Requirement already satisfied: pandas<3.0,>=1.0 in /Library/anaconda3/lib/python3.10/site-packages (from gradio) (2.0.2)\n",
      "Requirement already satisfied: huggingface-hub>=0.14.0 in /Library/anaconda3/lib/python3.10/site-packages (from gradio) (0.16.4)\n",
      "Requirement already satisfied: httpx in /Library/anaconda3/lib/python3.10/site-packages (from gradio) (0.24.1)\n",
      "Requirement already satisfied: jinja2<4.0 in /Library/anaconda3/lib/python3.10/site-packages (from gradio) (3.1.2)\n",
      "Requirement already satisfied: pydantic!=1.8,!=1.8.1,!=2.0.0,!=2.0.1,<3.0.0,>=1.7.4 in /Library/anaconda3/lib/python3.10/site-packages (from gradio) (2.1.1)\n",
      "Requirement already satisfied: charset-normalizer<4.0,>=2.0 in /Library/anaconda3/lib/python3.10/site-packages (from aiohttp~=3.0->gradio) (2.0.4)\n",
      "Requirement already satisfied: async-timeout<5.0,>=4.0.0a3 in /Library/anaconda3/lib/python3.10/site-packages (from aiohttp~=3.0->gradio) (4.0.2)\n",
      "Requirement already satisfied: yarl<2.0,>=1.0 in /Library/anaconda3/lib/python3.10/site-packages (from aiohttp~=3.0->gradio) (1.9.2)\n",
      "Requirement already satisfied: aiosignal>=1.1.2 in /Library/anaconda3/lib/python3.10/site-packages (from aiohttp~=3.0->gradio) (1.3.1)\n",
      "Requirement already satisfied: attrs>=17.3.0 in /Library/anaconda3/lib/python3.10/site-packages (from aiohttp~=3.0->gradio) (22.1.0)\n",
      "Requirement already satisfied: frozenlist>=1.1.1 in /Library/anaconda3/lib/python3.10/site-packages (from aiohttp~=3.0->gradio) (1.4.0)\n",
      "Requirement already satisfied: multidict<7.0,>=4.5 in /Library/anaconda3/lib/python3.10/site-packages (from aiohttp~=3.0->gradio) (6.0.4)\n",
      "Requirement already satisfied: toolz in /Library/anaconda3/lib/python3.10/site-packages (from altair<6.0,>=4.2.0->gradio) (0.12.0)\n",
      "Requirement already satisfied: jsonschema>=3.0 in /Library/anaconda3/lib/python3.10/site-packages (from altair<6.0,>=4.2.0->gradio) (4.17.3)\n",
      "Requirement already satisfied: fsspec in /Library/anaconda3/lib/python3.10/site-packages (from gradio-client>=0.3.0->gradio) (2023.6.0)\n",
      "Requirement already satisfied: tqdm>=4.42.1 in /Library/anaconda3/lib/python3.10/site-packages (from huggingface-hub>=0.14.0->gradio) (4.65.0)\n",
      "Requirement already satisfied: filelock in /Library/anaconda3/lib/python3.10/site-packages (from huggingface-hub>=0.14.0->gradio) (3.9.0)\n",
      "Requirement already satisfied: mdurl~=0.1 in /Library/anaconda3/lib/python3.10/site-packages (from markdown-it-py[linkify]>=2.0.0->gradio) (0.1.2)\n",
      "Requirement already satisfied: linkify-it-py<3,>=1 in /Library/anaconda3/lib/python3.10/site-packages (from markdown-it-py[linkify]>=2.0.0->gradio) (2.0.2)\n",
      "Requirement already satisfied: kiwisolver>=1.0.1 in /Library/anaconda3/lib/python3.10/site-packages (from matplotlib~=3.0->gradio) (1.4.4)\n",
      "Requirement already satisfied: cycler>=0.10 in /Library/anaconda3/lib/python3.10/site-packages (from matplotlib~=3.0->gradio) (0.11.0)\n",
      "Requirement already satisfied: contourpy>=1.0.1 in /Library/anaconda3/lib/python3.10/site-packages (from matplotlib~=3.0->gradio) (1.1.0)\n",
      "Requirement already satisfied: python-dateutil>=2.7 in /Library/anaconda3/lib/python3.10/site-packages (from matplotlib~=3.0->gradio) (2.8.2)\n",
      "Requirement already satisfied: pyparsing>=2.3.1 in /Library/anaconda3/lib/python3.10/site-packages (from matplotlib~=3.0->gradio) (3.1.0)\n",
      "Requirement already satisfied: fonttools>=4.22.0 in /Library/anaconda3/lib/python3.10/site-packages (from matplotlib~=3.0->gradio) (4.40.0)\n",
      "Requirement already satisfied: pytz>=2020.1 in /Library/anaconda3/lib/python3.10/site-packages (from pandas<3.0,>=1.0->gradio) (2022.7)\n",
      "Requirement already satisfied: tzdata>=2022.1 in /Library/anaconda3/lib/python3.10/site-packages (from pandas<3.0,>=1.0->gradio) (2023.3)\n",
      "Requirement already satisfied: pydantic-core==2.4.0 in /Library/anaconda3/lib/python3.10/site-packages (from pydantic!=1.8,!=1.8.1,!=2.0.0,!=2.0.1,<3.0.0,>=1.7.4->gradio) (2.4.0)\n",
      "Requirement already satisfied: annotated-types>=0.4.0 in /Library/anaconda3/lib/python3.10/site-packages (from pydantic!=1.8,!=1.8.1,!=2.0.0,!=2.0.1,<3.0.0,>=1.7.4->gradio) (0.5.0)\n",
      "Requirement already satisfied: urllib3<1.27,>=1.21.1 in /Library/anaconda3/lib/python3.10/site-packages (from requests~=2.0->gradio) (1.26.16)\n",
      "Requirement already satisfied: certifi>=2017.4.17 in /Library/anaconda3/lib/python3.10/site-packages (from requests~=2.0->gradio) (2023.5.7)\n",
      "Requirement already satisfied: idna<4,>=2.5 in /Library/anaconda3/lib/python3.10/site-packages (from requests~=2.0->gradio) (3.4)\n",
      "Requirement already satisfied: click>=7.0 in /Library/anaconda3/lib/python3.10/site-packages (from uvicorn>=0.14.0->gradio) (8.0.4)\n",
      "Requirement already satisfied: h11>=0.8 in /Library/anaconda3/lib/python3.10/site-packages (from uvicorn>=0.14.0->gradio) (0.14.0)\n",
      "Requirement already satisfied: starlette<0.28.0,>=0.27.0 in /Library/anaconda3/lib/python3.10/site-packages (from fastapi->gradio) (0.27.0)\n",
      "Requirement already satisfied: sniffio in /Library/anaconda3/lib/python3.10/site-packages (from httpx->gradio) (1.2.0)\n",
      "Requirement already satisfied: httpcore<0.18.0,>=0.15.0 in /Library/anaconda3/lib/python3.10/site-packages (from httpx->gradio) (0.17.3)\n",
      "Requirement already satisfied: anyio<5.0,>=3.0 in /Library/anaconda3/lib/python3.10/site-packages (from httpcore<0.18.0,>=0.15.0->httpx->gradio) (3.5.0)\n",
      "Requirement already satisfied: pyrsistent!=0.17.0,!=0.17.1,!=0.17.2,>=0.14.0 in /Library/anaconda3/lib/python3.10/site-packages (from jsonschema>=3.0->altair<6.0,>=4.2.0->gradio) (0.18.0)\n",
      "Requirement already satisfied: uc-micro-py in /Library/anaconda3/lib/python3.10/site-packages (from linkify-it-py<3,>=1->markdown-it-py[linkify]>=2.0.0->gradio) (1.0.2)\n",
      "Requirement already satisfied: six>=1.5 in /Library/anaconda3/lib/python3.10/site-packages (from python-dateutil>=2.7->matplotlib~=3.0->gradio) (1.16.0)\n"
     ]
    },
    {
     "name": "stdout",
     "output_type": "stream",
     "text": [
      "Note: you may need to restart the kernel to use updated packages.\n"
     ]
    }
   ],
   "source": [
    "pip install --upgrade gradio"
   ]
  },
  {
   "cell_type": "code",
   "execution_count": 3,
   "id": "fe74612a",
   "metadata": {},
   "outputs": [],
   "source": [
    "import gradio as gr"
   ]
  },
  {
   "cell_type": "code",
   "execution_count": 4,
   "id": "b8ad59ca",
   "metadata": {},
   "outputs": [
    {
     "name": "stdout",
     "output_type": "stream",
     "text": [
      "/Library/anaconda3/lib/python3.10/site-packages/typing_extensions.py\n"
     ]
    }
   ],
   "source": [
    "import typing_extensions\n",
    "print(typing_extensions.__file__)\n"
   ]
  },
  {
   "cell_type": "code",
   "execution_count": 5,
   "id": "83a10d7d",
   "metadata": {},
   "outputs": [
    {
     "name": "stdout",
     "output_type": "stream",
     "text": [
      "Requirement already satisfied: ipywidgets in /Library/anaconda3/lib/python3.10/site-packages (8.0.7)\n",
      "Requirement already satisfied: traitlets>=4.3.1 in /Library/anaconda3/lib/python3.10/site-packages (from ipywidgets) (5.7.1)\n",
      "Requirement already satisfied: ipython>=6.1.0 in /Library/anaconda3/lib/python3.10/site-packages (from ipywidgets) (8.12.0)\n",
      "Requirement already satisfied: widgetsnbextension~=4.0.7 in /Library/anaconda3/lib/python3.10/site-packages (from ipywidgets) (4.0.8)\n",
      "Requirement already satisfied: jupyterlab-widgets~=3.0.7 in /Library/anaconda3/lib/python3.10/site-packages (from ipywidgets) (3.0.8)\n",
      "Requirement already satisfied: ipykernel>=4.5.1 in /Library/anaconda3/lib/python3.10/site-packages (from ipywidgets) (6.19.2)\n",
      "Requirement already satisfied: nest-asyncio in /Library/anaconda3/lib/python3.10/site-packages (from ipykernel>=4.5.1->ipywidgets) (1.5.6)\n",
      "Requirement already satisfied: tornado>=6.1 in /Library/anaconda3/lib/python3.10/site-packages (from ipykernel>=4.5.1->ipywidgets) (6.2)\n",
      "Requirement already satisfied: jupyter-client>=6.1.12 in /Library/anaconda3/lib/python3.10/site-packages (from ipykernel>=4.5.1->ipywidgets) (8.1.0)\n",
      "Requirement already satisfied: matplotlib-inline>=0.1 in /Library/anaconda3/lib/python3.10/site-packages (from ipykernel>=4.5.1->ipywidgets) (0.1.6)\n",
      "Requirement already satisfied: debugpy>=1.0 in /Library/anaconda3/lib/python3.10/site-packages (from ipykernel>=4.5.1->ipywidgets) (1.5.1)\n",
      "Requirement already satisfied: psutil in /Library/anaconda3/lib/python3.10/site-packages (from ipykernel>=4.5.1->ipywidgets) (5.9.0)\n",
      "Requirement already satisfied: packaging in /Library/anaconda3/lib/python3.10/site-packages (from ipykernel>=4.5.1->ipywidgets) (23.0)\n",
      "Requirement already satisfied: comm>=0.1.1 in /Library/anaconda3/lib/python3.10/site-packages (from ipykernel>=4.5.1->ipywidgets) (0.1.2)\n",
      "Requirement already satisfied: pyzmq>=17 in /Library/anaconda3/lib/python3.10/site-packages (from ipykernel>=4.5.1->ipywidgets) (25.1.0)\n",
      "Requirement already satisfied: appnope in /Library/anaconda3/lib/python3.10/site-packages (from ipykernel>=4.5.1->ipywidgets) (0.1.2)\n",
      "Requirement already satisfied: pygments>=2.4.0 in /Library/anaconda3/lib/python3.10/site-packages (from ipython>=6.1.0->ipywidgets) (2.15.1)\n",
      "Requirement already satisfied: pickleshare in /Library/anaconda3/lib/python3.10/site-packages (from ipython>=6.1.0->ipywidgets) (0.7.5)\n",
      "Requirement already satisfied: jedi>=0.16 in /Library/anaconda3/lib/python3.10/site-packages (from ipython>=6.1.0->ipywidgets) (0.18.1)\n",
      "Requirement already satisfied: decorator in /Library/anaconda3/lib/python3.10/site-packages (from ipython>=6.1.0->ipywidgets) (5.1.1)\n",
      "Requirement already satisfied: pexpect>4.3 in /Library/anaconda3/lib/python3.10/site-packages (from ipython>=6.1.0->ipywidgets) (4.8.0)\n",
      "Requirement already satisfied: prompt-toolkit!=3.0.37,<3.1.0,>=3.0.30 in /Library/anaconda3/lib/python3.10/site-packages (from ipython>=6.1.0->ipywidgets) (3.0.36)\n",
      "Requirement already satisfied: stack-data in /Library/anaconda3/lib/python3.10/site-packages (from ipython>=6.1.0->ipywidgets) (0.2.0)\n",
      "Requirement already satisfied: backcall in /Library/anaconda3/lib/python3.10/site-packages (from ipython>=6.1.0->ipywidgets) (0.2.0)\n",
      "Requirement already satisfied: parso<0.9.0,>=0.8.0 in /Library/anaconda3/lib/python3.10/site-packages (from jedi>=0.16->ipython>=6.1.0->ipywidgets) (0.8.3)\n",
      "Requirement already satisfied: python-dateutil>=2.8.2 in /Library/anaconda3/lib/python3.10/site-packages (from jupyter-client>=6.1.12->ipykernel>=4.5.1->ipywidgets) (2.8.2)\n",
      "Requirement already satisfied: jupyter-core!=5.0.*,>=4.12 in /Library/anaconda3/lib/python3.10/site-packages (from jupyter-client>=6.1.12->ipykernel>=4.5.1->ipywidgets) (5.3.0)\n",
      "Requirement already satisfied: ptyprocess>=0.5 in /Library/anaconda3/lib/python3.10/site-packages (from pexpect>4.3->ipython>=6.1.0->ipywidgets) (0.7.0)\n",
      "Requirement already satisfied: wcwidth in /Library/anaconda3/lib/python3.10/site-packages (from prompt-toolkit!=3.0.37,<3.1.0,>=3.0.30->ipython>=6.1.0->ipywidgets) (0.2.5)\n",
      "Requirement already satisfied: asttokens in /Library/anaconda3/lib/python3.10/site-packages (from stack-data->ipython>=6.1.0->ipywidgets) (2.0.5)\n",
      "Requirement already satisfied: pure-eval in /Library/anaconda3/lib/python3.10/site-packages (from stack-data->ipython>=6.1.0->ipywidgets) (0.2.2)\n",
      "Requirement already satisfied: executing in /Library/anaconda3/lib/python3.10/site-packages (from stack-data->ipython>=6.1.0->ipywidgets) (0.8.3)\n",
      "Requirement already satisfied: platformdirs>=2.5 in /Library/anaconda3/lib/python3.10/site-packages (from jupyter-core!=5.0.*,>=4.12->jupyter-client>=6.1.12->ipykernel>=4.5.1->ipywidgets) (2.5.2)\n",
      "Requirement already satisfied: six>=1.5 in /Library/anaconda3/lib/python3.10/site-packages (from python-dateutil>=2.8.2->jupyter-client>=6.1.12->ipykernel>=4.5.1->ipywidgets) (1.16.0)\n",
      "Note: you may need to restart the kernel to use updated packages.\n"
     ]
    }
   ],
   "source": [
    "pip install --upgrade ipywidgets"
   ]
  },
  {
   "cell_type": "code",
   "execution_count": 6,
   "id": "fbeaaaac",
   "metadata": {},
   "outputs": [],
   "source": [
    "import pandas as pd\n",
    "import numpy as np\n",
    "import seaborn as sns\n",
    "import matplotlib.pyplot as plt\n",
    "import xgboost as xgb\n",
    "import gradio as gr\n",
    "import xgboost as xgb\n",
    "from typing_extensions import NotRequired\n",
    "\n",
    "\n",
    "import warnings\n",
    "warnings.filterwarnings('ignore')"
   ]
  },
  {
   "cell_type": "markdown",
   "id": "79db7f6b",
   "metadata": {},
   "source": [
    " 0   Followers           47325 non-null  int64  \n",
    " 1   Total Videos        47325 non-null  int64  \n",
    " 2   Upload Year         47325 non-null  int64  \n",
    " 3   Upload Month        47325 non-null  int64  \n",
    " 4   Upload Weekday      47325 non-null  int64  \n",
    " 5   Engagement Rate     47325 non-null  float64\n",
    " 6   Number of Hashtags  47325 non-null  int64  \n",
    " 7   Upload_Afternoon    47325 non-null  int64  \n",
    " 8   Upload_Evening      47325 non-null  int64  \n",
    " 9   Upload_Midnight     47325 non-null  int64  \n",
    " 10  Upload_Morning      47325 non-null  int64 "
   ]
  },
  {
   "cell_type": "code",
   "execution_count": 7,
   "id": "53d2382c",
   "metadata": {},
   "outputs": [
    {
     "data": {
      "text/html": [
       "<style>#sk-container-id-1 {color: black;}#sk-container-id-1 pre{padding: 0;}#sk-container-id-1 div.sk-toggleable {background-color: white;}#sk-container-id-1 label.sk-toggleable__label {cursor: pointer;display: block;width: 100%;margin-bottom: 0;padding: 0.3em;box-sizing: border-box;text-align: center;}#sk-container-id-1 label.sk-toggleable__label-arrow:before {content: \"▸\";float: left;margin-right: 0.25em;color: #696969;}#sk-container-id-1 label.sk-toggleable__label-arrow:hover:before {color: black;}#sk-container-id-1 div.sk-estimator:hover label.sk-toggleable__label-arrow:before {color: black;}#sk-container-id-1 div.sk-toggleable__content {max-height: 0;max-width: 0;overflow: hidden;text-align: left;background-color: #f0f8ff;}#sk-container-id-1 div.sk-toggleable__content pre {margin: 0.2em;color: black;border-radius: 0.25em;background-color: #f0f8ff;}#sk-container-id-1 input.sk-toggleable__control:checked~div.sk-toggleable__content {max-height: 200px;max-width: 100%;overflow: auto;}#sk-container-id-1 input.sk-toggleable__control:checked~label.sk-toggleable__label-arrow:before {content: \"▾\";}#sk-container-id-1 div.sk-estimator input.sk-toggleable__control:checked~label.sk-toggleable__label {background-color: #d4ebff;}#sk-container-id-1 div.sk-label input.sk-toggleable__control:checked~label.sk-toggleable__label {background-color: #d4ebff;}#sk-container-id-1 input.sk-hidden--visually {border: 0;clip: rect(1px 1px 1px 1px);clip: rect(1px, 1px, 1px, 1px);height: 1px;margin: -1px;overflow: hidden;padding: 0;position: absolute;width: 1px;}#sk-container-id-1 div.sk-estimator {font-family: monospace;background-color: #f0f8ff;border: 1px dotted black;border-radius: 0.25em;box-sizing: border-box;margin-bottom: 0.5em;}#sk-container-id-1 div.sk-estimator:hover {background-color: #d4ebff;}#sk-container-id-1 div.sk-parallel-item::after {content: \"\";width: 100%;border-bottom: 1px solid gray;flex-grow: 1;}#sk-container-id-1 div.sk-label:hover label.sk-toggleable__label {background-color: #d4ebff;}#sk-container-id-1 div.sk-serial::before {content: \"\";position: absolute;border-left: 1px solid gray;box-sizing: border-box;top: 0;bottom: 0;left: 50%;z-index: 0;}#sk-container-id-1 div.sk-serial {display: flex;flex-direction: column;align-items: center;background-color: white;padding-right: 0.2em;padding-left: 0.2em;position: relative;}#sk-container-id-1 div.sk-item {position: relative;z-index: 1;}#sk-container-id-1 div.sk-parallel {display: flex;align-items: stretch;justify-content: center;background-color: white;position: relative;}#sk-container-id-1 div.sk-item::before, #sk-container-id-1 div.sk-parallel-item::before {content: \"\";position: absolute;border-left: 1px solid gray;box-sizing: border-box;top: 0;bottom: 0;left: 50%;z-index: -1;}#sk-container-id-1 div.sk-parallel-item {display: flex;flex-direction: column;z-index: 1;position: relative;background-color: white;}#sk-container-id-1 div.sk-parallel-item:first-child::after {align-self: flex-end;width: 50%;}#sk-container-id-1 div.sk-parallel-item:last-child::after {align-self: flex-start;width: 50%;}#sk-container-id-1 div.sk-parallel-item:only-child::after {width: 0;}#sk-container-id-1 div.sk-dashed-wrapped {border: 1px dashed gray;margin: 0 0.4em 0.5em 0.4em;box-sizing: border-box;padding-bottom: 0.4em;background-color: white;}#sk-container-id-1 div.sk-label label {font-family: monospace;font-weight: bold;display: inline-block;line-height: 1.2em;}#sk-container-id-1 div.sk-label-container {text-align: center;}#sk-container-id-1 div.sk-container {/* jupyter's `normalize.less` sets `[hidden] { display: none; }` but bootstrap.min.css set `[hidden] { display: none !important; }` so we also need the `!important` here to be able to override the default hidden behavior on the sphinx rendered scikit-learn.org. See: https://github.com/scikit-learn/scikit-learn/issues/21755 */display: inline-block !important;position: relative;}#sk-container-id-1 div.sk-text-repr-fallback {display: none;}</style><div id=\"sk-container-id-1\" class=\"sk-top-container\"><div class=\"sk-text-repr-fallback\"><pre>XGBRegressor(base_score=None, booster=&#x27;gbtree&#x27;, callbacks=None,\n",
       "             colsample_bylevel=None, colsample_bynode=None,\n",
       "             colsample_bytree=0.7999999999999999, early_stopping_rounds=None,\n",
       "             enable_categorical=False, eval_metric=None, feature_types=None,\n",
       "             gamma=0.0, gpu_id=None, grow_policy=None, importance_type=None,\n",
       "             interaction_constraints=None, learning_rate=0.26, max_bin=None,\n",
       "             max_cat_threshold=None, max_cat_to_onehot=None,\n",
       "             max_delta_step=None, max_depth=None, max_leaves=None,\n",
       "             min_child_weight=None, missing=nan, monotone_constraints=None,\n",
       "             n_estimators=100, n_jobs=None, num_parallel_tree=None,\n",
       "             predictor=None, random_state=123, ...)</pre><b>In a Jupyter environment, please rerun this cell to show the HTML representation or trust the notebook. <br />On GitHub, the HTML representation is unable to render, please try loading this page with nbviewer.org.</b></div><div class=\"sk-container\" hidden><div class=\"sk-item\"><div class=\"sk-estimator sk-toggleable\"><input class=\"sk-toggleable__control sk-hidden--visually\" id=\"sk-estimator-id-1\" type=\"checkbox\" checked><label for=\"sk-estimator-id-1\" class=\"sk-toggleable__label sk-toggleable__label-arrow\">XGBRegressor</label><div class=\"sk-toggleable__content\"><pre>XGBRegressor(base_score=None, booster=&#x27;gbtree&#x27;, callbacks=None,\n",
       "             colsample_bylevel=None, colsample_bynode=None,\n",
       "             colsample_bytree=0.7999999999999999, early_stopping_rounds=None,\n",
       "             enable_categorical=False, eval_metric=None, feature_types=None,\n",
       "             gamma=0.0, gpu_id=None, grow_policy=None, importance_type=None,\n",
       "             interaction_constraints=None, learning_rate=0.26, max_bin=None,\n",
       "             max_cat_threshold=None, max_cat_to_onehot=None,\n",
       "             max_delta_step=None, max_depth=None, max_leaves=None,\n",
       "             min_child_weight=None, missing=nan, monotone_constraints=None,\n",
       "             n_estimators=100, n_jobs=None, num_parallel_tree=None,\n",
       "             predictor=None, random_state=123, ...)</pre></div></div></div></div></div>"
      ],
      "text/plain": [
       "XGBRegressor(base_score=None, booster='gbtree', callbacks=None,\n",
       "             colsample_bylevel=None, colsample_bynode=None,\n",
       "             colsample_bytree=0.7999999999999999, early_stopping_rounds=None,\n",
       "             enable_categorical=False, eval_metric=None, feature_types=None,\n",
       "             gamma=0.0, gpu_id=None, grow_policy=None, importance_type=None,\n",
       "             interaction_constraints=None, learning_rate=0.26, max_bin=None,\n",
       "             max_cat_threshold=None, max_cat_to_onehot=None,\n",
       "             max_delta_step=None, max_depth=None, max_leaves=None,\n",
       "             min_child_weight=None, missing=nan, monotone_constraints=None,\n",
       "             n_estimators=100, n_jobs=None, num_parallel_tree=None,\n",
       "             predictor=None, random_state=123, ...)"
      ]
     },
     "execution_count": 7,
     "metadata": {},
     "output_type": "execute_result"
    }
   ],
   "source": [
    "best_model = xgb.XGBRegressor()\n",
    "best_model.load_model(\"best_model.xgb\")\n",
    "\n",
    "best_model"
   ]
  },
  {
   "cell_type": "code",
   "execution_count": 8,
   "id": "c6bc0c59",
   "metadata": {},
   "outputs": [],
   "source": [
    "weekdays = [\"Monday\", \"Tuesday\", \"Wednesday\", \"Thursday\", \"Friday\", \"Saturday\", \"Sunday\"]"
   ]
  },
  {
   "cell_type": "code",
   "execution_count": 9,
   "id": "e911c51d",
   "metadata": {},
   "outputs": [],
   "source": [
    "def get_weekday_number(weekday_label): \n",
    "    return weekdays.index(weekday_label) + 1"
   ]
  },
  {
   "cell_type": "code",
   "execution_count": 10,
   "id": "74d02c9c",
   "metadata": {},
   "outputs": [],
   "source": [
    "def predict_engagement_rate(followers, total_videos, num_hashtags, year, month, weekday, morning, afternoon, evening, midnight):\n",
    "    \n",
    "    weekday_number = get_weekday_number(weekday)\n",
    "    \n",
    "    data = pd.DataFrame({\n",
    "        'Followers': [followers],\n",
    "        'Total Videos': [total_videos],\n",
    "        'Number of Hashtags': [num_hashtags],\n",
    "        'Upload Year': [year],\n",
    "        'Upload Month': [month],\n",
    "        'Upload Weekday': [weekday_number],\n",
    "        'Upload at Morning': [morning],\n",
    "        'Upload at Afternoon': [afternoon],\n",
    "        'Upload at Evening': [evening],\n",
    "        'Upload at Midnight': [midnight]\n",
    "    })\n",
    "\n",
    "    engagement_rate = best_model.predict(data)\n",
    "\n",
    "    return f'{engagement_rate*100}%'"
   ]
  },
  {
   "cell_type": "code",
   "execution_count": 11,
   "id": "dcce9ef5",
   "metadata": {},
   "outputs": [
    {
     "name": "stdout",
     "output_type": "stream",
     "text": [
      "Running on local URL:  http://127.0.0.1:7860\n",
      "\n",
      "To create a public link, set `share=True` in `launch()`.\n"
     ]
    },
    {
     "data": {
      "text/html": [
       "<div><iframe src=\"http://127.0.0.1:7860/\" width=\"100%\" height=\"500\" allow=\"autoplay; camera; microphone; clipboard-read; clipboard-write;\" frameborder=\"0\" allowfullscreen></iframe></div>"
      ],
      "text/plain": [
       "<IPython.core.display.HTML object>"
      ]
     },
     "metadata": {},
     "output_type": "display_data"
    },
    {
     "data": {
      "text/plain": []
     },
     "execution_count": 11,
     "metadata": {},
     "output_type": "execute_result"
    }
   ],
   "source": [
    "demo = gr.Interface(\n",
    "    theme=gr.themes.Soft(),\n",
    "    fn=predict_engagement_rate,\n",
    "    inputs=[\n",
    "        gr.inputs.Number(label=\"Followers\"),\n",
    "        gr.inputs.Number(label=\"Total videos\"),\n",
    "        gr.inputs.Number(label=\"Number of Hashtags\"),\n",
    "        gr.inputs.Slider(minimum=2016, maximum=2023, step=1, label=\"Upload Year\"),\n",
    "        gr.inputs.Slider(minimum=1, maximum=12, step=1, label=\"Upload Month\"),\n",
    "        gr.inputs.Dropdown(weekdays, label=\"Upload Weekday\"),\n",
    "        gr.inputs.Checkbox(label=\"Morning (06:00 - 12:00)\"),\n",
    "        gr.inputs.Checkbox(label=\"Afternoon (12:00 - 18:00)\"),\n",
    "        gr.inputs.Checkbox(label=\"Evening (18:00 - 00:00)\"),\n",
    "        gr.inputs.Checkbox(label=\"Midnight (00:00 - 06:00)\"),\n",
    "    ],\n",
    "    outputs=gr.outputs.Textbox(label='Engagement Rate'),\n",
    "    live=True,\n",
    "    title=\"Tiktok User Engagement Rate Predictor\",\n",
    ")\n",
    "\n",
    "demo.launch()"
   ]
  },
  {
   "cell_type": "code",
   "execution_count": null,
   "id": "9ebcfd60",
   "metadata": {},
   "outputs": [],
   "source": []
  },
  {
   "cell_type": "code",
   "execution_count": null,
   "id": "47eecfd8",
   "metadata": {},
   "outputs": [],
   "source": []
  },
  {
   "cell_type": "code",
   "execution_count": null,
   "id": "52cf12a6",
   "metadata": {},
   "outputs": [],
   "source": []
  }
 ],
 "metadata": {
  "kernelspec": {
   "display_name": "Python 3 (ipykernel)",
   "language": "python",
   "name": "python3"
  },
  "language_info": {
   "codemirror_mode": {
    "name": "ipython",
    "version": 3
   },
   "file_extension": ".py",
   "mimetype": "text/x-python",
   "name": "python",
   "nbconvert_exporter": "python",
   "pygments_lexer": "ipython3",
   "version": "3.10.9"
  }
 },
 "nbformat": 4,
 "nbformat_minor": 5
}
